{
 "cells": [
  {
   "cell_type": "code",
   "execution_count": 1,
   "id": "4b88d945-7658-44b3-9260-66abbbf1242f",
   "metadata": {
    "tags": []
   },
   "outputs": [],
   "source": [
    "import os\n",
    "import vertexai\n",
    "\n",
    "from langchain_google_community import VertexAISearchRetriever\n",
    "from langchain_google_community import GCSDirectoryLoader\n",
    "from langchain_google_vertexai import VertexAI\n",
    "from langchain_google_vertexai import VertexAIEmbeddings\n",
    "from langchain.chat_models import ChatVertexAI\n",
    "\n",
    "from langchain.text_splitter import RecursiveCharacterTextSplitter\n",
    "from langchain.retrievers.multi_query import MultiQueryRetriever\n",
    "from langchain.prompts import PromptTemplate\n",
    "\n",
    "from langchain_community.vectorstores import Chroma"
   ]
  },
  {
   "cell_type": "markdown",
   "id": "ff992b72-1980-4a9f-9d78-865f42e1ce26",
   "metadata": {},
   "source": [
    "### Using Vertex search"
   ]
  },
  {
   "cell_type": "code",
   "execution_count": 2,
   "id": "e677b798-8ec3-4984-b3ad-0836d141f567",
   "metadata": {
    "tags": []
   },
   "outputs": [],
   "source": [
    "PROJECT_ID = \"TODO\" \n",
    "REGION = \"us-central1\"\n",
    "DATA_STORE_LOCATION=\"global\"\n",
    "DATA_STORE_ID=\"TODO\""
   ]
  },
  {
   "cell_type": "code",
   "execution_count": 3,
   "id": "f5fd7009-b97d-4278-b8c0-15de4b5080c3",
   "metadata": {
    "tags": []
   },
   "outputs": [],
   "source": [
    "vertexai.init(project=PROJECT_ID, location=REGION)"
   ]
  },
  {
   "cell_type": "code",
   "execution_count": 4,
   "id": "d072a81d-8c6a-4b65-b6fe-604cab03b693",
   "metadata": {
    "tags": []
   },
   "outputs": [],
   "source": [
    "prompt_template = \"\"\"Use the following pieces of context to answer the question at the end.\n",
    "    If you don't know the answer, just say that you don't know and explain what piece of information is missing to answer the question.\n",
    "    Only answer in plaintext, do not answer in markdown\n",
    "\n",
    "    {context}\n",
    "\n",
    "    Question: {question}\n",
    "    Answer:\"\"\""
   ]
  },
  {
   "cell_type": "code",
   "execution_count": 5,
   "id": "c8c80c33-d90a-464c-a05b-a98b9db67865",
   "metadata": {
    "tags": []
   },
   "outputs": [
    {
     "name": "stderr",
     "output_type": "stream",
     "text": [
      "/opt/conda/lib/python3.10/site-packages/langchain_core/_api/deprecation.py:119: LangChainDeprecationWarning: The method `BaseRetriever.get_relevant_documents` was deprecated in langchain-core 0.1.46 and will be removed in 0.3.0. Use invoke instead.\n",
      "  warn_deprecated(\n"
     ]
    },
    {
     "name": "stdout",
     "output_type": "stream",
     "text": [
      "page_content='Research and development expenses increased by $134.4 million to <b>$225.6 million</b> (or 7.1% of revenues) in 2004, from $91.2 million (or 6.2% of revenues) in 2003.' metadata={'id': '3cbf4b88a6126487272f015eccf2754f', 'source': 'gs://cloud-samples-data/gen-app-builder/search/alphabet-investor-pdfs/2004_google_annual_report.pdf:39'}\n",
      "page_content='Cost of revenues increased by $831.8 million to $1457.7 million (or 45.7% of revenues) in 2004, from $625.9 million (or 42.7% of revenues) in 2003.' metadata={'id': '3cbf4b88a6126487272f015eccf2754f', 'source': 'gs://cloud-samples-data/gen-app-builder/search/alphabet-investor-pdfs/2004_google_annual_report.pdf:39'}\n",
      "page_content='Research and development expenses increased by $258.4 million to $484.0 million (or 7.9% of revenues) in 2005, from <b>$225.6 million</b> (or 7.1% of revenues) in 2004.' metadata={'id': 'adc537ccece262a5bd00f26d0dd10a7d', 'source': 'gs://cloud-samples-data/gen-app-builder/search/alphabet-investor-pdfs/20051231_10-K.pdf:56'}\n",
      "page_content='Also, we have employed a significant number of temporary employees in the past and expect to continue to do so in the foreseeable future. Our capital expenditures have grown from $319.0 million in 2004 to $838.2 million in 2005.' metadata={'id': 'adc537ccece262a5bd00f26d0dd10a7d', 'source': 'gs://cloud-samples-data/gen-app-builder/search/alphabet-investor-pdfs/20051231_10-K.pdf:56'}\n",
      "page_content='Year Ended December 31, 2001 2002 2003 2004 2005 (in thousands) Cost of revenues $ 876 $ 1065 $ 8557 $ 11314 $ 5579 Research and development 4440 8746 138377 169532 115532 Sales and marketing 1667 4934 44607 49449 28411 General and administrative 5400 6890 37820 48451 51187 $12383 $21635 $229361 $278746 $200709 (2) See Note 1 of Notes to Consolidated Financial Statements included in this Form 10-K for information regarding the computation of per share amounts.' metadata={'id': 'adc537ccece262a5bd00f26d0dd10a7d', 'source': 'gs://cloud-samples-data/gen-app-builder/search/alphabet-investor-pdfs/20051231_10-K.pdf:56'}\n",
      "page_content='The additional personnel, professional services fees and depreciation and related expenses are the result of the growth of our business. General and administrative expenses increased $195.6 million to $335.3 million (or 5.4% of revenues) in 2005, from $139.7 million (or 4.4% of revenues) in 2004.' metadata={'id': 'adc537ccece262a5bd00f26d0dd10a7d', 'source': 'gs://cloud-samples-data/gen-app-builder/search/alphabet-investor-pdfs/20051231_10-K.pdf:56'}\n",
      "page_content='Research and development expenses increased by $75.4 million to <b>$138.2 million</b> (or 6.4% of revenues) in the nine months ended September 30, 2004, from $62.8 million (or 6.6% of revenues) in the nine months ended September 30, 2003.' metadata={'id': '4a1856388c044f049389111b91848e20', 'source': 'gs://cloud-samples-data/gen-app-builder/search/alphabet-investor-pdfs/20040930_google_10Q.pdf:37'}\n"
     ]
    }
   ],
   "source": [
    "retriever = VertexAISearchRetriever(\n",
    "    project_id=PROJECT_ID,\n",
    "    location_id=DATA_STORE_LOCATION,\n",
    "    data_store_id=DATA_STORE_ID,\n",
    "    engine_type=1\n",
    ")\n",
    "\n",
    "result = retriever.get_relevant_documents(\"How much were Google's R&D expenses in 2004?\")\n",
    "for doc in result:\n",
    "    print(doc)"
   ]
  },
  {
   "cell_type": "code",
   "execution_count": 6,
   "id": "8c20ce8d-b1d6-4d9d-87d9-5ea0ae9f4b71",
   "metadata": {
    "tags": []
   },
   "outputs": [],
   "source": [
    "llm = VertexAI(\n",
    "    model_name=\"gemini-1.5-pro-001\",\n",
    "    temperature=0,\n",
    "    verbose=True\n",
    ")\n",
    "\n",
    "prompt = PromptTemplate(\n",
    "    template=prompt_template, input_variables=[\"context\", \"question\"]\n",
    ")"
   ]
  },
  {
   "cell_type": "code",
   "execution_count": 7,
   "id": "cbf37c81-fc58-4210-a45d-d6ba4dcd8ef7",
   "metadata": {
    "tags": []
   },
   "outputs": [
    {
     "name": "stderr",
     "output_type": "stream",
     "text": [
      "/opt/conda/lib/python3.10/site-packages/langchain_core/_api/deprecation.py:119: LangChainDeprecationWarning: The method `BaseLLM.predict` was deprecated in langchain-core 0.1.7 and will be removed in 0.3.0. Use invoke instead.\n",
      "  warn_deprecated(\n"
     ]
    },
    {
     "name": "stdout",
     "output_type": "stream",
     "text": [
      "$225.6 million \n",
      "\n"
     ]
    }
   ],
   "source": [
    "response = llm.predict(prompt.format(context =result, question=\"How much were Google's R&D expenses in 2004?\"))\n",
    "print(response)"
   ]
  },
  {
   "cell_type": "code",
   "execution_count": 8,
   "id": "ed84f98b-fed2-4f8a-b64f-cc51904fcc02",
   "metadata": {
    "tags": []
   },
   "outputs": [
    {
     "name": "stdout",
     "output_type": "stream",
     "text": [
      "I can't answer this question. The provided documents only give R&D expenses for the nine months ending in September 2007 and 2008 and then for the six months ending June 2008-2010. To answer the question, I would need the R&D expenses for the remaining months between October 2007-December 2010. \n"
     ]
    }
   ],
   "source": [
    "result = retriever.get_relevant_documents(\"How much were Google's R&D expenses between 2008 and 2010??\")\n",
    "\n",
    "response = llm.predict(prompt.format(context =result, question=\"How much were Google's R&D expenses between 2008 and 2010??\"))\n",
    "print(response)"
   ]
  },
  {
   "cell_type": "markdown",
   "id": "9559f7de-d277-4476-b567-7101485f913d",
   "metadata": {},
   "source": [
    "\n",
    "\n",
    "### Create your own RAG"
   ]
  },
  {
   "cell_type": "code",
   "execution_count": 9,
   "id": "ce715797-edb7-421d-9334-94661a845043",
   "metadata": {
    "tags": []
   },
   "outputs": [
    {
     "name": "stderr",
     "output_type": "stream",
     "text": [
      "The PDF <_io.BufferedReader name='/var/tmp/tmpszhwuz1w/2004Q4_earnings_google.pdf'> contains a metadata field indicating that it should not allow text extraction. Ignoring this field and proceeding. Use the check_extractable if you want to raise an error in this case\n",
      "The PDF <_io.BufferedReader name='/var/tmp/tmp6cepl8pp/2004_google_annual_report.pdf'> contains a metadata field indicating that it should not allow text extraction. Ignoring this field and proceeding. Use the check_extractable if you want to raise an error in this case\n",
      "The PDF <_io.BufferedReader name='/var/tmp/tmpm0ylk3f7/20051231_10-K.pdf'> contains a metadata field indicating that it should not allow text extraction. Ignoring this field and proceeding. Use the check_extractable if you want to raise an error in this case\n",
      "The PDF <_io.BufferedReader name='/var/tmp/tmp4r64nkcx/2005Q1_earnings_google.pdf'> contains a metadata field indicating that it should not allow text extraction. Ignoring this field and proceeding. Use the check_extractable if you want to raise an error in this case\n",
      "The PDF <_io.BufferedReader name='/var/tmp/tmptpwavwfg/2005Q4_earnings_google.pdf'> contains a metadata field indicating that it should not allow text extraction. Ignoring this field and proceeding. Use the check_extractable if you want to raise an error in this case\n",
      "The PDF <_io.BufferedReader name='/var/tmp/tmp4eo3ofhj/2005_google_annual_report.pdf'> contains a metadata field indicating that it should not allow text extraction. Ignoring this field and proceeding. Use the check_extractable if you want to raise an error in this case\n",
      "The PDF <_io.BufferedReader name='/var/tmp/tmpm3eogah3/20060930_google_10Q.pdf'> contains a metadata field indicating that it should not allow text extraction. Ignoring this field and proceeding. Use the check_extractable if you want to raise an error in this case\n",
      "The PDF <_io.BufferedReader name='/var/tmp/tmp7x8xpl8j/2006Q4_earnings_google.pdf'> contains a metadata field indicating that it should not allow text extraction. Ignoring this field and proceeding. Use the check_extractable if you want to raise an error in this case\n",
      "The PDF <_io.BufferedReader name='/var/tmp/tmp9a9lk0dj/2006_google_annual_report.pdf'> contains a metadata field indicating that it should not allow text extraction. Ignoring this field and proceeding. Use the check_extractable if you want to raise an error in this case\n",
      "The PDF <_io.BufferedReader name='/var/tmp/tmphqs5g5df/2007_google_annual_report.pdf'> contains a metadata field indicating that it should not allow text extraction. Ignoring this field and proceeding. Use the check_extractable if you want to raise an error in this case\n",
      "The PDF <_io.BufferedReader name='/var/tmp/tmpj6pgw4jo/20110222_pressrelease.pdf'> contains a metadata field indicating that it should not allow text extraction. Ignoring this field and proceeding. Use the check_extractable if you want to raise an error in this case\n",
      "The PDF <_io.BufferedReader name='/var/tmp/tmp13824u53/2011Q1_earnings_google.pdf'> contains a metadata field indicating that it should not allow text extraction. Ignoring this field and proceeding. Use the check_extractable if you want to raise an error in this case\n",
      "The PDF <_io.BufferedReader name='/var/tmp/tmp1s_8lvq1/2011Q3_earnings_google.pdf'> contains a metadata field indicating that it should not allow text extraction. Ignoring this field and proceeding. Use the check_extractable if you want to raise an error in this case\n",
      "The PDF <_io.BufferedReader name='/var/tmp/tmpyd244i2k/2012Q1_google_earnings.pdf'> contains a metadata field indicating that it should not allow text extraction. Ignoring this field and proceeding. Use the check_extractable if you want to raise an error in this case\n",
      "The PDF <_io.BufferedReader name='/var/tmp/tmpjn13nj1b/2012Q2_google_earnings.pdf'> contains a metadata field indicating that it should not allow text extraction. Ignoring this field and proceeding. Use the check_extractable if you want to raise an error in this case\n",
      "The PDF <_io.BufferedReader name='/var/tmp/tmpaoca9p0a/2012Q3_google_earnings.pdf'> contains a metadata field indicating that it should not allow text extraction. Ignoring this field and proceeding. Use the check_extractable if you want to raise an error in this case\n"
     ]
    }
   ],
   "source": [
    "loader = GCSDirectoryLoader(project_name=\"TODO\", bucket=\"TODO\")\n",
    "docs = loader.load()"
   ]
  },
  {
   "cell_type": "code",
   "execution_count": 10,
   "id": "959e0372-880c-44f3-8b48-6b32b61f63a8",
   "metadata": {
    "tags": []
   },
   "outputs": [
    {
     "name": "stdout",
     "output_type": "stream",
     "text": [
      "Your 176 documents have been split into 24312 chunks\n"
     ]
    }
   ],
   "source": [
    "text_splitter = RecursiveCharacterTextSplitter(chunk_size=1500, chunk_overlap=20)\n",
    "splits = text_splitter.split_documents(docs)\n",
    "\n",
    "print (f\"Your {len(docs)} documents have been split into {len(splits)} chunks\")"
   ]
  },
  {
   "cell_type": "code",
   "execution_count": 11,
   "id": "f7d61f0b-69bb-4c80-bcf9-316b3e0e20e7",
   "metadata": {
    "tags": []
   },
   "outputs": [],
   "source": [
    "if 'vectordb' in globals(): # If you've already made your vectordb this will delete it so you start fresh\n",
    "    vectordb.delete_collection()\n",
    "\n",
    "embedding = VertexAIEmbeddings(model_name=\"textembedding-gecko@latest\")\n",
    "vectordb = Chroma.from_documents(documents=splits, embedding=embedding)"
   ]
  },
  {
   "cell_type": "code",
   "execution_count": 12,
   "id": "70337b15-4b2d-40d4-bf87-4a947a877050",
   "metadata": {
    "tags": []
   },
   "outputs": [],
   "source": [
    "def create_answer(llm, context, question):\n",
    "    PROMPT = PromptTemplate(\n",
    "        template=prompt_template, input_variables=[\"context\", \"question\"]\n",
    "    )\n",
    "\n",
    "    return llm.predict(text=PROMPT.format_prompt(\n",
    "        context=context,\n",
    "        question=question\n",
    "    ).text)"
   ]
  },
  {
   "cell_type": "code",
   "execution_count": 13,
   "id": "e1f70d44-1bd7-419c-8ad4-88dd9f13f8d9",
   "metadata": {
    "tags": []
   },
   "outputs": [
    {
     "name": "stderr",
     "output_type": "stream",
     "text": [
      "/opt/conda/lib/python3.10/site-packages/langchain_core/_api/deprecation.py:119: LangChainDeprecationWarning: The class `ChatVertexAI` was deprecated in LangChain 0.0.12 and will be removed in 0.3.0. An updated version of the class exists in the langchain-google-vertexai package and should be used instead. To use it run `pip install -U langchain-google-vertexai` and import as `from langchain_google_vertexai import ChatVertexAI`.\n",
      "  warn_deprecated(\n",
      "/opt/conda/lib/python3.10/site-packages/langchain_core/_api/deprecation.py:119: LangChainDeprecationWarning: The method `BaseChatModel.predict` was deprecated in langchain-core 0.1.7 and will be removed in 0.3.0. Use invoke instead.\n",
      "  warn_deprecated(\n"
     ]
    },
    {
     "name": "stdout",
     "output_type": "stream",
     "text": [
      "[Document(page_content='Research and development expenses increased by $16.4 million to $95.8 million (or 6.9% of revenues) in the three months\\n\\nended June 30, 2005, from $79.4 million (or 6.3% of revenues) in the three months ended March 31, 2005. This increase was primarily due to an increase in labor and facilities related costs of $11.8 million as a result of a 27% increase in\\n\\n20\\n\\nGOOGLE INC. 06/30/2005 FORM 10-\\n\\nRR Donnelley ProFile\\n\\nPALFBU-2KP-PF01 9.0.16\\n\\nPAL vaugm0pa PAL\\n\\nˆ1T3LQP4X4WM2L5BfŠ 2* 0C\\n\\n1T3LQP4X4WM2L5B\\n\\n13-Aug-2005 03:45 EST\\n\\n92647 TX 21 HTM ESS Page 1 of 1\\n\\nresearch and development headcount. In addition, depreciation and related expenses increased by $3.5 million primarily as a result of additional information technology assets purchased over the six months ended June 30, 2005.\\n\\nResearch and development expenses increased by $50.0 million to $95.8 million (or 6.9% of revenues) in the three months ended June 30, 2005, from $45.8 million (or 6.5% of revenues) in the three months ended June 30, 2004. This increase was primarily due to an increase in labor and facilities related costs of $36.4 million as a result of a 119% increase in research and development headcount. In addition, there was an increase in depreciation and related expenses of $10.9 million primarily as a result of additional information technology assets purchased over the fifteen-month period ended June 30, 2005.', metadata={'source': 'gs://mathiascanales_financial_documents/20050630_google_10Q.pdf', 'x-goog-reserved-source-generation': '1683152135407885'})]\n"
     ]
    },
    {
     "data": {
      "text/plain": [
       "'$45.8 million \\n'"
      ]
     },
     "execution_count": 13,
     "metadata": {},
     "output_type": "execute_result"
    }
   ],
   "source": [
    "llm = ChatVertexAI(\n",
    "          model_name='gemini-1.5-pro-001',\n",
    "          temperature=0,\n",
    "          max_output_tokens=2048\n",
    "        )\n",
    "\n",
    "question = \"How much were Google's R&D expenses in 2004?\"\n",
    "\n",
    "retriever = vectordb.as_retriever(search_kwargs={\"k\": 1})\n",
    "context = retriever.invoke(question)\n",
    "print(context)\n",
    "create_answer(llm=llm, context=context, question=question)"
   ]
  },
  {
   "cell_type": "markdown",
   "id": "e539dfcc-3b3c-4835-8e5e-9c43625d3c2e",
   "metadata": {
    "tags": []
   },
   "source": [
    "## MultiQueryRetriever\n",
    "\n",
    "There are often scenarios where your input query does not capture the semantics of the data well.\n",
    "\n",
    "1. Multi Query Retriever overcomes by generating multiple queries from different perspectives for an input query\n",
    "2. It then retrieves all the relevant documents based on all the generated queries to get a larger set of potentially relevant documents\n",
    "3. We perform deduplication of all documents and these documents are then passed as a context to the LLM to generate an answer.\n",
    "\n",
    "\n",
    "![title](multiquery.png)"
   ]
  },
  {
   "cell_type": "code",
   "execution_count": 14,
   "id": "839141a9-904e-4eb3-b8cb-b5ddc39a7866",
   "metadata": {
    "tags": []
   },
   "outputs": [],
   "source": [
    "# Set logging for the queries\n",
    "import logging\n",
    "\n",
    "logging.basicConfig()\n",
    "logging.getLogger(\"langchain.retrievers.multi_query\").setLevel(logging.INFO)"
   ]
  },
  {
   "cell_type": "code",
   "execution_count": 15,
   "id": "75b1f0e7-0ec1-4c22-808b-b31b26e263ae",
   "metadata": {
    "tags": []
   },
   "outputs": [],
   "source": [
    "def showMultiQueryRetriever(question):\n",
    "\n",
    "  llm = ChatVertexAI(\n",
    "          model_name='gemini-1.5-pro-001',\n",
    "          temperature=0.4,\n",
    "          max_output_tokens=2048\n",
    "        )\n",
    "\n",
    "  retriever_from_llm = MultiQueryRetriever.from_llm(retriever=vectordb.as_retriever(), llm=llm)\n",
    "  context = retriever_from_llm.invoke(question)\n",
    "  return create_answer(llm=llm, context=context, question=question)"
   ]
  },
  {
   "cell_type": "code",
   "execution_count": 16,
   "id": "f7e89163-8543-44a7-9d15-446caf133ac2",
   "metadata": {
    "tags": []
   },
   "outputs": [
    {
     "name": "stderr",
     "output_type": "stream",
     "text": [
      "INFO:langchain.retrievers.multi_query:Generated queries: [\"1. What was Google's total research and development spending from 2008 to 2010? \", '2. How much did Google invest in R&D annually during the period of 2008-2010?', \"3. What were the yearly figures for Google's research and development expenditures in the years 2008, 2009, and 2010?\"]\n"
     ]
    },
    {
     "data": {
      "text/plain": [
       "'$8.4 billion \\n'"
      ]
     },
     "execution_count": 16,
     "metadata": {},
     "output_type": "execute_result"
    }
   ],
   "source": [
    "showMultiQueryRetriever(\"\"\"How much were Google R&D expenses between 2008 and 2010?\"\"\")"
   ]
  }
 ],
 "metadata": {
  "environment": {
   "kernel": "conda-base-py",
   "name": "workbench-notebooks.m120",
   "type": "gcloud",
   "uri": "us-docker.pkg.dev/deeplearning-platform-release/gcr.io/workbench-notebooks:m120"
  },
  "kernelspec": {
   "display_name": "Python 3 (ipykernel) (Local)",
   "language": "python",
   "name": "conda-base-py"
  },
  "language_info": {
   "codemirror_mode": {
    "name": "ipython",
    "version": 3
   },
   "file_extension": ".py",
   "mimetype": "text/x-python",
   "name": "python",
   "nbconvert_exporter": "python",
   "pygments_lexer": "ipython3",
   "version": "3.10.14"
  }
 },
 "nbformat": 4,
 "nbformat_minor": 5
}
