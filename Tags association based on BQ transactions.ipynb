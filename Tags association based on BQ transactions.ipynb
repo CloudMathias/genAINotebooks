{
 "cells": [
  {
   "cell_type": "code",
   "execution_count": null,
   "id": "69946013-d766-4087-ad76-5688bd0745ba",
   "metadata": {},
   "outputs": [],
   "source": [
    "#gcloud auth application-default login"
   ]
  },
  {
   "cell_type": "code",
   "execution_count": 1,
   "id": "da86cea4-9728-44f2-935c-4e09c340c5d9",
   "metadata": {
    "tags": []
   },
   "outputs": [],
   "source": [
    "from google.cloud import bigquery\n",
    "import base64\n",
    "import json\n",
    "import vertexai\n",
    "from vertexai.generative_models import GenerativeModel, Part, SafetySetting\n",
    "from google.cloud import storage"
   ]
  },
  {
   "cell_type": "code",
   "execution_count": 2,
   "id": "8e63320e-77e4-4a58-bdde-fd2663af5e83",
   "metadata": {
    "tags": []
   },
   "outputs": [],
   "source": [
    "bucket_name = 'velexa_demo'\n",
    "csv_path = 'gs://velexa_demo/Trades.csv'\n",
    "table_id = 'vertexai-demo-420409.Velexa.trades'\n",
    "schema = [\n",
    "    bigquery.SchemaField('Account ID', 'STRING'),\n",
    "    bigquery.SchemaField('Instrument', 'STRING'),\n",
    "    bigquery.SchemaField('Quantity', 'INTEGER'),\n",
    "    bigquery.SchemaField('Date - BuySell', 'DATE'),\n",
    "    bigquery.SchemaField('Date - Placement', 'DATE'),\n",
    "    bigquery.SchemaField('Order Status', 'STRING'),\n",
    "]\n",
    "file_name = \"tags.json\""
   ]
  },
  {
   "cell_type": "code",
   "execution_count": null,
   "id": "25e199b4-09e8-49cf-a659-349e1ff00cff",
   "metadata": {
    "tags": []
   },
   "outputs": [],
   "source": [
    "def load_csv_to_bigquery(csv_path, table_id, schema, create_disposition='CREATE_IF_NEEDED', write_disposition='WRITE_APPEND'):\n",
    "  \"\"\"Loads data from a CSV file into a BigQuery table.\n",
    "\n",
    "  Args:\n",
    "    csv_path: The path to the CSV file.\n",
    "    table_id: The ID of the BigQuery table.\n",
    "    schema: The schema of the BigQuery table.\n",
    "    create_disposition: Specifies whether the table should be created if it doesn't exist.\n",
    "    write_disposition: Specifies how to handle existing data in the table.\n",
    "  \"\"\"\n",
    "\n",
    "  client = bigquery.Client()\n",
    "\n",
    "  job_config = bigquery.LoadJobConfig(\n",
    "      schema=schema,\n",
    "      skip_leading_rows=1,  # Skip header row\n",
    "      source_format=bigquery.SourceFormat.CSV,\n",
    "      create_disposition=create_disposition,\n",
    "      write_disposition=write_disposition\n",
    "  )\n",
    "\n",
    "  load_job = client.load_table_from_uri(csv_path, table_id, job_config=job_config)\n",
    "  load_job.result()  # Wait for the job to complete\n",
    "\n",
    "  destination_table = client.get_table(table_id)\n",
    "  print(f\"Loaded {destination_table.num_rows} rows to {table_id}\")"
   ]
  },
  {
   "cell_type": "code",
   "execution_count": null,
   "id": "71566b7e-45ef-423e-8f6e-f18e3203294e",
   "metadata": {},
   "outputs": [],
   "source": [
    "load_csv_to_bigquery(csv_path, table_id, schema)"
   ]
  },
  {
   "cell_type": "code",
   "execution_count": 10,
   "id": "7686287f-4968-493c-8a7a-4cd051875792",
   "metadata": {
    "tags": []
   },
   "outputs": [],
   "source": [
    "def getTrades(account_id):\n",
    "    client = bigquery.Client()\n",
    "\n",
    "    query = \"\"\"\n",
    "    SELECT\n",
    "        `Account ID`,\n",
    "        Instrument,\n",
    "        COUNTIF(`Order Status` = 'Filled') AS Number_of_Trades,\n",
    "        SUM(CASE\n",
    "          WHEN `Order Status` = 'Filled' THEN Quantity\n",
    "          ELSE 0\n",
    "        END) AS Total_Quantity_Filled,\n",
    "      FROM\n",
    "        `{}`\n",
    "        WHERE `Account ID` = \"{}\"\n",
    "      GROUP BY\n",
    "        `Account ID`,\n",
    "        Instrument\n",
    "        ORDER BY\n",
    "      `Account ID`,\n",
    "      Number_of_Trades DESC\n",
    "    \"\"\".format(table_id, account_id)\n",
    "\n",
    "    # Run the query and get the results\n",
    "    query_job = client.query(query)  \n",
    "    results = query_job.result()  # Waits for job to complete.\n",
    "\n",
    "    formatted_text = \"\"\n",
    "    for row in results:\n",
    "        formatted_text += f\"{row['Account ID']} has traded {row['Number_of_Trades']} times for a quantity of {row['Total_Quantity_Filled']} for this instrument: {row['Instrument']}\\n\"\n",
    "\n",
    "    return formatted_text\n"
   ]
  },
  {
   "cell_type": "code",
   "execution_count": 11,
   "id": "d810aec9-726c-49bd-ab64-e622c9e89d8d",
   "metadata": {
    "tags": []
   },
   "outputs": [],
   "source": [
    "def getTags():\n",
    "    storage_client = storage.Client()\n",
    "    bucket = storage_client.bucket(bucket_name)\n",
    "    blob = bucket.blob(file_name)\n",
    "    json_data = json.loads(blob.download_as_string())\n",
    "\n",
    "    # Format the JSON data for the prompt\n",
    "    formatted_json = json.dumps(json_data, indent=4)\n",
    "    return formatted_json"
   ]
  },
  {
   "cell_type": "code",
   "execution_count": 7,
   "id": "1f6f8e54-5652-4825-93fc-fd72f0f4122a",
   "metadata": {
    "tags": []
   },
   "outputs": [],
   "source": [
    "def generateWithInfo(account_id, additional_information):\n",
    "    # Initialize Vertex AI\n",
    "    vertexai.init(project=\"vertexai-demo-420409\", location=\"us-central1\")\n",
    "    model = GenerativeModel(\n",
    "        \"gemini-1.5-flash-002\",\n",
    "    )\n",
    "      \n",
    "    trades = getTrades(account_id)\n",
    "    tags = getTags()\n",
    "    \n",
    "    print(trades)\n",
    "    \n",
    "    # Construct the prompt with the JSON data\n",
    "    text1 = f\"\"\"I have a list of trades for an account and a list of potential industry tags. Please analyze the trades and assign the most relevant industry tags to the trader.\n",
    "\n",
    "    **Trades:**\n",
    "\n",
    "    {trades} \n",
    "\n",
    "    **Potential Industry Tags:**\n",
    "\n",
    "    {tags}\n",
    "\n",
    "    **Additional Information:**\n",
    "\n",
    "    {additional_information}\n",
    "\n",
    "    **Please provide a clear and concise list of the most relevant tags based on the trading activity.**\"\"\"\n",
    "\n",
    "    # Generation configuration and safety settings\n",
    "    generation_config = {\n",
    "        \"max_output_tokens\": 8192,\n",
    "        \"temperature\": 1,\n",
    "        \"top_p\": 0.95,\n",
    "    }\n",
    "\n",
    "    safety_settings = [\n",
    "        SafetySetting(\n",
    "            category=SafetySetting.HarmCategory.HARM_CATEGORY_HATE_SPEECH,\n",
    "            threshold=SafetySetting.HarmBlockThreshold.OFF\n",
    "        ),\n",
    "        SafetySetting(\n",
    "            category=SafetySetting.HarmCategory.HARM_CATEGORY_DANGEROUS_CONTENT,\n",
    "            threshold=SafetySetting.HarmBlockThreshold.OFF\n",
    "        ),\n",
    "        SafetySetting(\n",
    "            category=SafetySetting.HarmCategory.HARM_CATEGORY_SEXUALLY_EXPLICIT,\n",
    "            threshold=SafetySetting.HarmBlockThreshold.OFF\n",
    "        ),\n",
    "        SafetySetting(\n",
    "            category=SafetySetting.HarmCategory.HARM_CATEGORY_HARASSMENT,\n",
    "            threshold=SafetySetting.HarmBlockThreshold.OFF\n",
    "        ),\n",
    "    ]\n",
    "\n",
    "    # Generate content\n",
    "    responses = model.generate_content(\n",
    "        [text1],\n",
    "        generation_config=generation_config,\n",
    "        safety_settings=safety_settings,\n",
    "        stream=True,\n",
    "    )\n",
    "\n",
    "    for response in responses:\n",
    "        print(response.text, end=\"\")"
   ]
  },
  {
   "cell_type": "code",
   "execution_count": null,
   "id": "576e2ae0-83ad-4d1a-bbee-a476b77f315e",
   "metadata": {
    "tags": []
   },
   "outputs": [],
   "source": [
    "generateWithInfo(\"ACCT_MIX3\", \"The trader is interested in finance as well\")"
   ]
  },
  {
   "cell_type": "code",
   "execution_count": 17,
   "id": "2c9be86d-1f74-466e-a361-b16ef28cc455",
   "metadata": {
    "tags": []
   },
   "outputs": [],
   "source": [
    "def generate(account_id):\n",
    "    vertexai.init(project=\"vertexai-demo-420409\", location=\"us-central1\")\n",
    "    model = GenerativeModel(\n",
    "        \"gemini-1.5-flash-002\",\n",
    "    )\n",
    "      \n",
    "    trades = getTrades(account_id)\n",
    "    tags = getTags()\n",
    "    additional_information = \"\"\n",
    "        \n",
    "    text1 = f\"\"\"Analyze the following list of trades and extract the most relevant tags (between 1 to 5) for the trader based on the instruments traded and the volume of trades per instrument.\n",
    "    The tags should be picked from the provided list.\n",
    "\n",
    "    **Trades:**\n",
    "\n",
    "    {trades} \n",
    "\n",
    "    **Potential Industry Tags:**\n",
    "\n",
    "    {tags}\n",
    "\n",
    "    **Output the tags as a JSON with the account ID following the schema: \"accountID\": \"\", \"tags\":**\"\"\"\n",
    "\n",
    "    response_schema = {\n",
    "    \"title\": \"Account Tags\",\n",
    "    \"description\": \"Schema for an account and its associated tags\",\n",
    "    \"type\": \"object\",\n",
    "    \"properties\": {\n",
    "        \"account_id\": {\n",
    "            \"type\": \"string\",\n",
    "            \"description\": \"Unique identifier for the account\"\n",
    "        },\n",
    "        \"tags\": {\n",
    "            \"type\": \"array\",\n",
    "            \"description\": \"List of tags associated with the account\",\n",
    "            \"items\": {\n",
    "                \"type\": \"string\"\n",
    "            }\n",
    "        }\n",
    "    },\n",
    "    \"required\": [\n",
    "        \"account_id\",\n",
    "        \"tags\"\n",
    "    ]\n",
    "    }\n",
    "    \n",
    "    # Generation configuration and safety settings\n",
    "    generation_config = {\n",
    "        \"max_output_tokens\": 8192,\n",
    "        \"temperature\": 1,\n",
    "        \"top_p\": 0.95,\n",
    "        \"response_mime_type\": \"application/json\",\n",
    "        #\"response_schema\": {\"title\":\"Account Tags\",\"description\":\"Schema for an account and its associated tags\",\"type\":\"OBJECT\",\"properties\":{\"account_id\":{\"type\":\"STRING\",\"description\":\"Unique identifier for the account\"},\"tags\":{\"type\":\"ARRAY\",\"description\":\"List of tags associated with the account\",\"items\":{\"type\":\"STRING\"}}},\"required\":[\"account_id\",\"tags\"]},\n",
    "    }\n",
    "\n",
    "    safety_settings = [\n",
    "        SafetySetting(\n",
    "            category=SafetySetting.HarmCategory.HARM_CATEGORY_HATE_SPEECH,\n",
    "            threshold=SafetySetting.HarmBlockThreshold.OFF\n",
    "        ),\n",
    "        SafetySetting(\n",
    "            category=SafetySetting.HarmCategory.HARM_CATEGORY_DANGEROUS_CONTENT,\n",
    "            threshold=SafetySetting.HarmBlockThreshold.OFF\n",
    "        ),\n",
    "        SafetySetting(\n",
    "            category=SafetySetting.HarmCategory.HARM_CATEGORY_SEXUALLY_EXPLICIT,\n",
    "            threshold=SafetySetting.HarmBlockThreshold.OFF\n",
    "        ),\n",
    "        SafetySetting(\n",
    "            category=SafetySetting.HarmCategory.HARM_CATEGORY_HARASSMENT,\n",
    "            threshold=SafetySetting.HarmBlockThreshold.OFF\n",
    "        ),\n",
    "    ]\n",
    "\n",
    "    # Generate content\n",
    "    response = model.generate_content(\n",
    "        [text1],\n",
    "        generation_config=generation_config,\n",
    "        safety_settings=safety_settings,\n",
    "        stream=False,\n",
    "    )\n",
    "\n",
    "    return response.text"
   ]
  },
  {
   "cell_type": "code",
   "execution_count": 18,
   "id": "d4815a30-bf8e-4b0c-8651-39d81f601530",
   "metadata": {
    "tags": []
   },
   "outputs": [],
   "source": [
    "# Construct a BigQuery client object.\n",
    "client = bigquery.Client()\n",
    "\n",
    "\n",
    "# Query to get all distinct account IDs from the table\n",
    "query = f\"\"\"\n",
    "    SELECT DISTINCT `Account ID`\n",
    "    FROM `{table_id}`\n",
    "\"\"\"\n",
    "\n",
    "# Run the query and get the results\n",
    "query_job = client.query(query)\n",
    "results = query_job.result()\n",
    "\n",
    "combined_json = []\n",
    "\n",
    "for row in results:\n",
    "    account_id = row['Account ID']\n",
    "    json_result = generate(account_id)\n",
    "    combined_json.append(json_result)\n",
    "\n",
    "with open(\"data.json\", \"w\") as f:\n",
    "  json.dump((combined_json), f, indent=4)"
   ]
  },
  {
   "cell_type": "code",
   "execution_count": null,
   "id": "a5833e50-f84d-454d-ae48-fec0ddd423ab",
   "metadata": {},
   "outputs": [],
   "source": [
    "# Batch processing\n",
    "# Grounding in search"
   ]
  },
  {
   "cell_type": "code",
   "execution_count": null,
   "id": "8d4ca954-d8e7-4ed9-a342-88acb0184227",
   "metadata": {},
   "outputs": [],
   "source": [
    " "
   ]
  }
 ],
 "metadata": {
  "environment": {
   "kernel": "conda-base-py",
   "name": "workbench-notebooks.m120",
   "type": "gcloud",
   "uri": "us-docker.pkg.dev/deeplearning-platform-release/gcr.io/workbench-notebooks:m120"
  },
  "kernelspec": {
   "display_name": "Python 3 (ipykernel) (Local)",
   "language": "python",
   "name": "conda-base-py"
  },
  "language_info": {
   "codemirror_mode": {
    "name": "ipython",
    "version": 3
   },
   "file_extension": ".py",
   "mimetype": "text/x-python",
   "name": "python",
   "nbconvert_exporter": "python",
   "pygments_lexer": "ipython3",
   "version": "3.10.14"
  }
 },
 "nbformat": 4,
 "nbformat_minor": 5
}
