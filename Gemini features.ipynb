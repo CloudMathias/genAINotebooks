{
 "cells": [
  {
   "cell_type": "code",
   "execution_count": 1,
   "id": "2917346a-ccb4-48d2-b43d-1d8861f88164",
   "metadata": {},
   "outputs": [],
   "source": [
    "#gcloud auth application-default login"
   ]
  },
  {
   "cell_type": "code",
   "execution_count": 2,
   "id": "a6a12ae6-dddc-4761-9f05-af937945f65b",
   "metadata": {
    "tags": []
   },
   "outputs": [],
   "source": [
    "import csv\n",
    "import datetime\n",
    "\n",
    "import vertexai\n",
    "from vertexai.generative_models import GenerationConfig, GenerativeModel, Part, Tool\n",
    "from vertexai.preview.generative_models import grounding\n",
    "from vertexai.preview import caching\n",
    "\n",
    "PROJECT_ID = \"TODO\""
   ]
  },
  {
   "cell_type": "markdown",
   "id": "fdc2cf11-99b5-48bc-ae0b-c769754a4a65",
   "metadata": {},
   "source": [
    "## JSON OUTPUT"
   ]
  },
  {
   "cell_type": "code",
   "execution_count": 3,
   "id": "814c0552-4e95-492b-8e0e-fe3c03f863e0",
   "metadata": {},
   "outputs": [],
   "source": [
    "prompt_template = \"\"\"\n",
    "You are a name matching expert.\n",
    "Task: Determine if these names likely refer to the same person.\n",
    "\n",
    "Name 1: {name1}\n",
    "Name 2: {name2}\n",
    "\n",
    "Answer with a likeliness score from 0 to 100.\n",
    "\"\"\"\n",
    "model = GenerativeModel(\n",
    "    model_name=\"gemini-1.5-flash\",\n",
    "    generation_config={\"response_mime_type\": \"application/json\"},\n",
    "  )\n",
    "    \n",
    "def generate(name1, name2):\n",
    "  vertexai.init(project=PROJECT_ID, location=\"us-central1\")\n",
    "  prompt = prompt_template.format(name1=name1, name2=name2)\n",
    "  \n",
    "  response = model.generate_content(prompt)\n",
    "  return response\n",
    "\n",
    "csv_file_path = \"names.csv\"\n",
    "\n",
    "results = []\n",
    "\n",
    "with open(csv_file_path, 'r', newline='') as csvfile:\n",
    "    reader = csv.reader(csvfile)\n",
    "    next(reader, None) \n",
    "    for row in reader:\n",
    "        name1, name2 = row  \n",
    "        result = generate(name1, name2).text\n",
    "        results.append(result) "
   ]
  },
  {
   "cell_type": "code",
   "execution_count": 4,
   "id": "dce1f4ae-1bbf-4fa9-b7ce-b3bfbd51443c",
   "metadata": {
    "tags": []
   },
   "outputs": [
    {
     "name": "stdout",
     "output_type": "stream",
     "text": [
      "['{\"score\": \"20\"}\\n', '{\"score\": 60}\\n', '{\"likelihood_score\": \"90\"}\\n', '{\"likelihood_score\": 80}\\n', '{\"likelihood_score\": 95}\\n', '{\"score\": 95}\\n\\n', '{\"likelihood_score\": 95}\\n', '{\"likelihood_score\": 95}\\n', '{\"likelihood_score\": \"90\"}\\n', '{\"score\": 90}\\n\\n', '{\"score\": 90}\\n', '{\"likelihood_score\": 95}\\n', '{\"likelihood_score\": 100}\\n', '{\"score\": 90}\\n', '{\"score\": 90}\\n\\n', '{\"score\": \"70\"}\\n', '{\"likelihood_score\": \"90\"}\\n']\n"
     ]
    }
   ],
   "source": [
    "print(results)"
   ]
  },
  {
   "cell_type": "code",
   "execution_count": 5,
   "id": "16f3ac3d-93bf-44c8-8917-52ac7d3c9aaf",
   "metadata": {
    "tags": []
   },
   "outputs": [],
   "source": [
    "response_schema = {\n",
    "  \"type\": \"object\",\n",
    "  \"properties\": {\n",
    "    \"firstName\": {\n",
    "      \"type\": \"string\",\n",
    "      \"description\": \"The first name\"\n",
    "    },\n",
    "    \"secondName\": {\n",
    "      \"type\": \"string\",\n",
    "      \"description\": \"The second name\"\n",
    "    },\n",
    "    \"score\": {\n",
    "      \"type\": \"integer\",\n",
    "      \"description\": \"The likelihood score\"\n",
    "    },\n",
    "    \"explanation\": {\n",
    "      \"type\": \"string\",\n",
    "      \"description\": \"The explanation of the score\"\n",
    "    }\n",
    "  },\n",
    "  \"required\": [\n",
    "    \"firstName\",\n",
    "    \"secondName\",\n",
    "    \"score\",\n",
    "    \"explanation\"\n",
    "  ]\n",
    "}"
   ]
  },
  {
   "cell_type": "code",
   "execution_count": 6,
   "id": "654204b0-5eee-4901-93d4-314cf673acc4",
   "metadata": {
    "tags": []
   },
   "outputs": [],
   "source": [
    "response = model.generate_content(\n",
    "    prompt_template.format(name1=\"Mathias\", name2=\"mathius\"),\n",
    "    generation_config=GenerationConfig(\n",
    "        response_mime_type=\"application/json\", response_schema=response_schema\n",
    "    ),\n",
    ")"
   ]
  },
  {
   "cell_type": "code",
   "execution_count": 7,
   "id": "c40c9019-c20b-424b-95b5-6333404aba59",
   "metadata": {
    "tags": []
   },
   "outputs": [
    {
     "name": "stdout",
     "output_type": "stream",
     "text": [
      "{\"explanation\": \"The names 'Mathias' and 'mathius' are very similar. The only difference is the capitalization. The slight spelling variation is common, and it is very likely that these names refer to the same person.\", \"firstName\": \"Mathias\", \"score\": 95, \"secondName\": \"mathius\"} \n"
     ]
    }
   ],
   "source": [
    "print(response.text)"
   ]
  },
  {
   "cell_type": "markdown",
   "id": "0d875a38-0ab1-49db-93b1-19323002c98f",
   "metadata": {
    "tags": []
   },
   "source": [
    "## Grounding in enterprise data"
   ]
  },
  {
   "cell_type": "code",
   "execution_count": 8,
   "id": "27c205b6-fa54-47dd-baad-acc34d0303b9",
   "metadata": {
    "tags": []
   },
   "outputs": [
    {
     "name": "stdout",
     "output_type": "stream",
     "text": [
      "Alphabet's R&D cost in 2009 was $2,843,027,000. \n"
     ]
    },
    {
     "data": {
      "text/plain": [
       "candidates {\n",
       "  content {\n",
       "    role: \"model\"\n",
       "    parts {\n",
       "      text: \"Alphabet\\'s R&D cost in 2009 was $2,843,027,000. \\n\"\n",
       "    }\n",
       "  }\n",
       "  finish_reason: STOP\n",
       "  safety_ratings {\n",
       "    category: HARM_CATEGORY_HATE_SPEECH\n",
       "    probability: NEGLIGIBLE\n",
       "    probability_score: 0.2265625\n",
       "    severity: HARM_SEVERITY_NEGLIGIBLE\n",
       "    severity_score: 0.1904296875\n",
       "  }\n",
       "  safety_ratings {\n",
       "    category: HARM_CATEGORY_DANGEROUS_CONTENT\n",
       "    probability: NEGLIGIBLE\n",
       "    probability_score: 0.1259765625\n",
       "    severity: HARM_SEVERITY_NEGLIGIBLE\n",
       "    severity_score: 0.0888671875\n",
       "  }\n",
       "  safety_ratings {\n",
       "    category: HARM_CATEGORY_HARASSMENT\n",
       "    probability: NEGLIGIBLE\n",
       "    probability_score: 0.259765625\n",
       "    severity: HARM_SEVERITY_LOW\n",
       "    severity_score: 0.2890625\n",
       "  }\n",
       "  safety_ratings {\n",
       "    category: HARM_CATEGORY_SEXUALLY_EXPLICIT\n",
       "    probability: NEGLIGIBLE\n",
       "    probability_score: 0.1982421875\n",
       "    severity: HARM_SEVERITY_NEGLIGIBLE\n",
       "    severity_score: 0.1875\n",
       "  }\n",
       "  grounding_metadata {\n",
       "    retrieval_queries: \"What was Alphabet\\'s R&D cost in 2009?\"\n",
       "    grounding_chunks {\n",
       "      retrieved_context {\n",
       "        uri: \"gs://cloud-samples-data/gen-app-builder/search/alphabet-investor-pdfs/20090331_google_10Q.pdf\"\n",
       "        title: \"printmgr file\"\n",
       "      }\n",
       "    }\n",
       "    grounding_chunks {\n",
       "      retrieved_context {\n",
       "        uri: \"gs://cloud-samples-data/gen-app-builder/search/alphabet-investor-pdfs/2010Q1_earnings_google.pdf\"\n",
       "        title: \"2010Q1_earnings_google\"\n",
       "      }\n",
       "    }\n",
       "    grounding_chunks {\n",
       "      retrieved_context {\n",
       "        uri: \"gs://cloud-samples-data/gen-app-builder/search/alphabet-investor-pdfs/20090630_google_10Q.pdf\"\n",
       "        title: \"printmgr file\"\n",
       "      }\n",
       "    }\n",
       "    grounding_chunks {\n",
       "      retrieved_context {\n",
       "        uri: \"gs://cloud-samples-data/gen-app-builder/search/alphabet-investor-pdfs/2009_google_annual_report.pdf\"\n",
       "        title: \"95279_005_Sendd_Web.p\"\n",
       "      }\n",
       "    }\n",
       "    grounding_chunks {\n",
       "      retrieved_context {\n",
       "        uri: \"gs://cloud-samples-data/gen-app-builder/search/alphabet-investor-pdfs/20090930_google_10Q.pdf\"\n",
       "        title: \"printmgr file\"\n",
       "      }\n",
       "    }\n",
       "  }\n",
       "  avg_logprobs: -0.09982081382505355\n",
       "}\n",
       "usage_metadata {\n",
       "  prompt_token_count: 14\n",
       "  candidates_token_count: 31\n",
       "  total_token_count: 45\n",
       "}"
      ]
     },
     "execution_count": 8,
     "metadata": {},
     "output_type": "execute_result"
    }
   ],
   "source": [
    "# Grounding in Enterprise data\n",
    "\n",
    "generation_config = {\n",
    "    \"max_output_tokens\": 8192,\n",
    "    \"temperature\": 1,\n",
    "    \"top_p\": 0.95,\n",
    "}\n",
    "\n",
    "tools = [\n",
    "    Tool.from_retrieval(\n",
    "        retrieval=grounding.Retrieval(\n",
    "            source=grounding.VertexAISearch(datastore=\"projects/vertexai-demo-420409/locations/global/collections/default_collection/dataStores/alphabet-investors-files_1716910033705\"),\n",
    "        )\n",
    "    ),\n",
    "]\n",
    "\n",
    "def generate_enterprise(prompt):\n",
    "    vertexai.init(project=PROJECT_ID, location=\"us-central1\")\n",
    "    model = GenerativeModel(\n",
    "        \"gemini-1.5-flash-001\",\n",
    "        tools=tools,\n",
    "    )\n",
    "    response = model.generate_content(\n",
    "        [prompt],\n",
    "        generation_config=generation_config,\n",
    "    )\n",
    "\n",
    "    print(response.text, end=\"\")\n",
    "    return response\n",
    "\n",
    "generate_enterprise(\"\"\"What was Alphabet R&D cost in 2009?\"\"\")"
   ]
  },
  {
   "cell_type": "code",
   "execution_count": 9,
   "id": "aa2746ef-ba9d-41e0-bdaa-f784a6ff1be3",
   "metadata": {
    "tags": []
   },
   "outputs": [
    {
     "name": "stdout",
     "output_type": "stream",
     "text": [
      "The provided sources do not contain information on Alphabet's R&D cost in 2024. \n"
     ]
    },
    {
     "data": {
      "text/plain": [
       "candidates {\n",
       "  content {\n",
       "    role: \"model\"\n",
       "    parts {\n",
       "      text: \"The provided sources do not contain information on Alphabet\\'s R&D cost in 2024. \\n\"\n",
       "    }\n",
       "  }\n",
       "  finish_reason: STOP\n",
       "  safety_ratings {\n",
       "    category: HARM_CATEGORY_HATE_SPEECH\n",
       "    probability: NEGLIGIBLE\n",
       "    probability_score: 0.23046875\n",
       "    severity: HARM_SEVERITY_LOW\n",
       "    severity_score: 0.26171875\n",
       "  }\n",
       "  safety_ratings {\n",
       "    category: HARM_CATEGORY_DANGEROUS_CONTENT\n",
       "    probability: NEGLIGIBLE\n",
       "    probability_score: 0.2177734375\n",
       "    severity: HARM_SEVERITY_NEGLIGIBLE\n",
       "    severity_score: 0.12255859375\n",
       "  }\n",
       "  safety_ratings {\n",
       "    category: HARM_CATEGORY_HARASSMENT\n",
       "    probability: NEGLIGIBLE\n",
       "    probability_score: 0.310546875\n",
       "    severity: HARM_SEVERITY_LOW\n",
       "    severity_score: 0.2890625\n",
       "  }\n",
       "  safety_ratings {\n",
       "    category: HARM_CATEGORY_SEXUALLY_EXPLICIT\n",
       "    probability: NEGLIGIBLE\n",
       "    probability_score: 0.2109375\n",
       "    severity: HARM_SEVERITY_LOW\n",
       "    severity_score: 0.22265625\n",
       "  }\n",
       "  grounding_metadata {\n",
       "    retrieval_queries: \"What was Alphabet\\'s R&D cost in 2024?\"\n",
       "    grounding_chunks {\n",
       "      retrieved_context {\n",
       "        uri: \"gs://cloud-samples-data/gen-app-builder/search/alphabet-investor-pdfs/20201030_alphabet_10Q.pdf\"\n",
       "        title: \"GOOG 10-Q Q3 2020\"\n",
       "      }\n",
       "    }\n",
       "    grounding_chunks {\n",
       "      retrieved_context {\n",
       "        uri: \"gs://cloud-samples-data/gen-app-builder/search/alphabet-investor-pdfs/goog-10-q-q2-2023-4.pdf\"\n",
       "        title: \"GOOG 10-Q Q2 2023\"\n",
       "      }\n",
       "    }\n",
       "    grounding_chunks {\n",
       "      retrieved_context {\n",
       "        uri: \"gs://cloud-samples-data/gen-app-builder/search/alphabet-investor-pdfs/20230426_alphabet_10Q.pdf\"\n",
       "        title: \"GOOG 10-Q Q1 2023\"\n",
       "      }\n",
       "    }\n",
       "    grounding_chunks {\n",
       "      retrieved_context {\n",
       "        uri: \"gs://cloud-samples-data/gen-app-builder/search/alphabet-investor-pdfs/goog-10-k-2023.pdf\"\n",
       "        title: \" GOOG 10-K 2023\"\n",
       "      }\n",
       "    }\n",
       "    grounding_chunks {\n",
       "      retrieved_context {\n",
       "        uri: \"gs://cloud-samples-data/gen-app-builder/search/alphabet-investor-pdfs/20210428_alphabet_10Q.pdf\"\n",
       "        title: \"GOOG 10-Q Q1 2021\"\n",
       "      }\n",
       "    }\n",
       "  }\n",
       "  avg_logprobs: -0.168561061223348\n",
       "}\n",
       "usage_metadata {\n",
       "  prompt_token_count: 14\n",
       "  candidates_token_count: 24\n",
       "  total_token_count: 38\n",
       "}"
      ]
     },
     "execution_count": 9,
     "metadata": {},
     "output_type": "execute_result"
    }
   ],
   "source": [
    "generate_enterprise(\"\"\"What was Alphabet R&D cost in 2024?\"\"\")"
   ]
  },
  {
   "cell_type": "code",
   "execution_count": 10,
   "id": "9f999dc8-abad-49df-8f3c-a2902236062f",
   "metadata": {
    "tags": []
   },
   "outputs": [
    {
     "name": "stdout",
     "output_type": "stream",
     "text": [
      "candidates {\n",
      "  content {\n",
      "    role: \"model\"\n",
      "    parts {\n",
      "      text: \"Alphabet\\'s R&D expenses for the twelve months ending June 30, 2024, were $47.134 billion, a 10.65% increase year-over-year. This means that Alphabet spent $47.134 billion on research and development in the year leading up to June 30, 2024. \\n\\nIt\\'s important to note that this figure includes R&D spending across all of Alphabet\\'s subsidiaries, including Google,  and not just Google\\'s R&D costs.  Also, R&D expenses are constantly changing, so this figure is specific to the twelve months ending June 30, 2024, and does not reflect the full year\\'s expenditures. \\n\"\n",
      "    }\n",
      "  }\n",
      "  finish_reason: STOP\n",
      "  safety_ratings {\n",
      "    category: HARM_CATEGORY_HATE_SPEECH\n",
      "    probability: NEGLIGIBLE\n",
      "    probability_score: 0.05419921875\n",
      "    severity: HARM_SEVERITY_NEGLIGIBLE\n",
      "    severity_score: 0.1416015625\n",
      "  }\n",
      "  safety_ratings {\n",
      "    category: HARM_CATEGORY_DANGEROUS_CONTENT\n",
      "    probability: NEGLIGIBLE\n",
      "    probability_score: 0.07275390625\n",
      "    severity: HARM_SEVERITY_NEGLIGIBLE\n",
      "    severity_score: 0.1318359375\n",
      "  }\n",
      "  safety_ratings {\n",
      "    category: HARM_CATEGORY_HARASSMENT\n",
      "    probability: NEGLIGIBLE\n",
      "    probability_score: 0.171875\n",
      "    severity: HARM_SEVERITY_LOW\n",
      "    severity_score: 0.203125\n",
      "  }\n",
      "  safety_ratings {\n",
      "    category: HARM_CATEGORY_SEXUALLY_EXPLICIT\n",
      "    probability: NEGLIGIBLE\n",
      "    probability_score: 0.0888671875\n",
      "    severity: HARM_SEVERITY_LOW\n",
      "    severity_score: 0.39453125\n",
      "  }\n",
      "  grounding_metadata {\n",
      "    web_search_queries: \"Alphabet R&D cost in 2024\"\n",
      "    search_entry_point {\n",
      "      rendered_content: \"<style>\\n.container {\\n  align-items: center;\\n  border-radius: 8px;\\n  display: flex;\\n  font-family: Google Sans, Roboto, sans-serif;\\n  font-size: 14px;\\n  line-height: 20px;\\n  padding: 8px 12px;\\n}\\n.chip {\\n  display: inline-block;\\n  border: solid 1px;\\n  border-radius: 16px;\\n  min-width: 14px;\\n  padding: 5px 16px;\\n  text-align: center;\\n  user-select: none;\\n  margin: 0 8px;\\n  -webkit-tap-highlight-color: transparent;\\n}\\n.carousel {\\n  overflow: auto;\\n  scrollbar-width: none;\\n  white-space: nowrap;\\n  margin-right: -12px;\\n}\\n.headline {\\n  display: flex;\\n  margin-right: 4px;\\n}\\n.gradient-container {\\n  position: relative;\\n}\\n.gradient {\\n  position: absolute;\\n  transform: translate(3px, -9px);\\n  height: 36px;\\n  width: 9px;\\n}\\n@media (prefers-color-scheme: light) {\\n  .container {\\n    background-color: #fafafa;\\n    box-shadow: 0 0 0 1px #0000000f;\\n  }\\n  .headline-label {\\n    color: #1f1f1f;\\n  }\\n  .chip {\\n    background-color: #ffffff;\\n    border-color: #d2d2d2;\\n    color: #5e5e5e;\\n    text-decoration: none;\\n  }\\n  .chip:hover {\\n    background-color: #f2f2f2;\\n  }\\n  .chip:focus {\\n    background-color: #f2f2f2;\\n  }\\n  .chip:active {\\n    background-color: #d8d8d8;\\n    border-color: #b6b6b6;\\n  }\\n  .logo-dark {\\n    display: none;\\n  }\\n  .gradient {\\n    background: linear-gradient(90deg, #fafafa 15%, #fafafa00 100%);\\n  }\\n}\\n@media (prefers-color-scheme: dark) {\\n  .container {\\n    background-color: #1f1f1f;\\n    box-shadow: 0 0 0 1px #ffffff26;\\n  }\\n  .headline-label {\\n    color: #fff;\\n  }\\n  .chip {\\n    background-color: #2c2c2c;\\n    border-color: #3c4043;\\n    color: #fff;\\n    text-decoration: none;\\n  }\\n  .chip:hover {\\n    background-color: #353536;\\n  }\\n  .chip:focus {\\n    background-color: #353536;\\n  }\\n  .chip:active {\\n    background-color: #464849;\\n    border-color: #53575b;\\n  }\\n  .logo-light {\\n    display: none;\\n  }\\n  .gradient {\\n    background: linear-gradient(90deg, #1f1f1f 15%, #1f1f1f00 100%);\\n  }\\n}\\n</style>\\n<div class=\\\"container\\\">\\n  <div class=\\\"headline\\\">\\n    <svg class=\\\"logo-light\\\" width=\\\"18\\\" height=\\\"18\\\" viewBox=\\\"9 9 35 35\\\" fill=\\\"none\\\" xmlns=\\\"http://www.w3.org/2000/svg\\\">\\n      <path fill-rule=\\\"evenodd\\\" clip-rule=\\\"evenodd\\\" d=\\\"M42.8622 27.0064C42.8622 25.7839 42.7525 24.6084 42.5487 23.4799H26.3109V30.1568H35.5897C35.1821 32.3041 33.9596 34.1222 32.1258 35.3448V39.6864H37.7213C40.9814 36.677 42.8622 32.2571 42.8622 27.0064V27.0064Z\\\" fill=\\\"#4285F4\\\"/>\\n      <path fill-rule=\\\"evenodd\\\" clip-rule=\\\"evenodd\\\" d=\\\"M26.3109 43.8555C30.9659 43.8555 34.8687 42.3195 37.7213 39.6863L32.1258 35.3447C30.5898 36.3792 28.6306 37.0061 26.3109 37.0061C21.8282 37.0061 18.0195 33.9811 16.6559 29.906H10.9194V34.3573C13.7563 39.9841 19.5712 43.8555 26.3109 43.8555V43.8555Z\\\" fill=\\\"#34A853\\\"/>\\n      <path fill-rule=\\\"evenodd\\\" clip-rule=\\\"evenodd\\\" d=\\\"M16.6559 29.8904C16.3111 28.8559 16.1074 27.7588 16.1074 26.6146C16.1074 25.4704 16.3111 24.3733 16.6559 23.3388V18.8875H10.9194C9.74388 21.2072 9.06992 23.8247 9.06992 26.6146C9.06992 29.4045 9.74388 32.022 10.9194 34.3417L15.3864 30.8621L16.6559 29.8904V29.8904Z\\\" fill=\\\"#FBBC05\\\"/>\\n      <path fill-rule=\\\"evenodd\\\" clip-rule=\\\"evenodd\\\" d=\\\"M26.3109 16.2386C28.85 16.2386 31.107 17.1164 32.9095 18.8091L37.8466 13.8719C34.853 11.082 30.9659 9.3736 26.3109 9.3736C19.5712 9.3736 13.7563 13.245 10.9194 18.8875L16.6559 23.3388C18.0195 19.2636 21.8282 16.2386 26.3109 16.2386V16.2386Z\\\" fill=\\\"#EA4335\\\"/>\\n    </svg>\\n    <svg class=\\\"logo-dark\\\" width=\\\"18\\\" height=\\\"18\\\" viewBox=\\\"0 0 48 48\\\" xmlns=\\\"http://www.w3.org/2000/svg\\\">\\n      <circle cx=\\\"24\\\" cy=\\\"23\\\" fill=\\\"#FFF\\\" r=\\\"22\\\"/>\\n      <path d=\\\"M33.76 34.26c2.75-2.56 4.49-6.37 4.49-11.26 0-.89-.08-1.84-.29-3H24.01v5.99h8.03c-.4 2.02-1.5 3.56-3.07 4.56v.75l3.91 2.97h.88z\\\" fill=\\\"#4285F4\\\"/>\\n      <path d=\\\"M15.58 25.77A8.845 8.845 0 0 0 24 31.86c1.92 0 3.62-.46 4.97-1.31l4.79 3.71C31.14 36.7 27.65 38 24 38c-5.93 0-11.01-3.4-13.45-8.36l.17-1.01 4.06-2.85h.8z\\\" fill=\\\"#34A853\\\"/>\\n      <path d=\\\"M15.59 20.21a8.864 8.864 0 0 0 0 5.58l-5.03 3.86c-.98-2-1.53-4.25-1.53-6.64 0-2.39.55-4.64 1.53-6.64l1-.22 3.81 2.98.22 1.08z\\\" fill=\\\"#FBBC05\\\"/>\\n      <path d=\\\"M24 14.14c2.11 0 4.02.75 5.52 1.98l4.36-4.36C31.22 9.43 27.81 8 24 8c-5.93 0-11.01 3.4-13.45 8.36l5.03 3.85A8.86 8.86 0 0 1 24 14.14z\\\" fill=\\\"#EA4335\\\"/>\\n    </svg>\\n    <div class=\\\"gradient-container\\\"><div class=\\\"gradient\\\"></div></div>\\n  </div>\\n  <div class=\\\"carousel\\\">\\n    <a class=\\\"chip\\\" href=\\\"https://www.google.com/search?q=Alphabet+R%26D+cost+in+2024&client=app-vertex-grounding&safesearch=active\\\">Alphabet R&amp;D cost in 2024</a>\\n  </div>\\n</div>\\n\"\n",
      "    }\n",
      "    grounding_chunks {\n",
      "      web {\n",
      "        uri: \"https://vertexaisearch.cloud.google.com/grounding-api-redirect/AXiHMj34tokNX8nwQ5_0gtbKIdFpEjA2dKlowgAAYLczU2wzUwHaVHqMaejtQmVAk3BSlpKAdD9qEHUWZNXs9OkzdmrNYDqkpQaOcVqVuY-qtj5M_vmxueVxwd7jbBWby-H9BXjFFTQ8UxXuX6mPAtrwq9GL9Ee_0SVnHLGU3ggKHMLPj9oWvavKWBXwNx5EdQ==\"\n",
      "        title: \"macrotrends.net\"\n",
      "      }\n",
      "    }\n",
      "    grounding_chunks {\n",
      "      web {\n",
      "        uri: \"https://vertexaisearch.cloud.google.com/grounding-api-redirect/AXiHMj3LwMi5KAxJ0-sK5gzQzRvgobgxWQAtg1HFiycz8NMmIRtYhlVu_HLF7GaTCDm4w3fdDVn9cgy1-StOBy2xOOUNtZdPuqDlgFDkKZLPnHwTFk6GAmv7axCwAIZQqOMMhN-T7qbpgVpWKtlYe25QpVtU-MYKPptprWN5S3cFO4iFIE5OlubOZU3gh5zM\"\n",
      "        title: \"macrotrends.net\"\n",
      "      }\n",
      "    }\n",
      "    grounding_supports {\n",
      "      segment {\n",
      "        end_index: 123\n",
      "        text: \"Alphabet\\'s R&D expenses for the twelve months ending June 30, 2024, were $47.134 billion, a 10.65% increase year-over-year.\"\n",
      "      }\n",
      "      grounding_chunk_indices: 0\n",
      "      grounding_chunk_indices: 1\n",
      "      confidence_scores: 0.9919261932373047\n",
      "      confidence_scores: 0.9919261932373047\n",
      "    }\n",
      "    grounding_supports {\n",
      "      segment {\n",
      "        start_index: 124\n",
      "        end_index: 239\n",
      "        text: \"This means that Alphabet spent $47.134 billion on research and development in the year leading up to June 30, 2024.\"\n",
      "      }\n",
      "      grounding_chunk_indices: 0\n",
      "      grounding_chunk_indices: 1\n",
      "      confidence_scores: 0.9457700848579407\n",
      "      confidence_scores: 0.9457700848579407\n",
      "    }\n",
      "  }\n",
      "  avg_logprobs: -0.4917206362069371\n",
      "}\n",
      "usage_metadata {\n",
      "  prompt_token_count: 14\n",
      "  candidates_token_count: 166\n",
      "  total_token_count: 180\n",
      "}\n"
     ]
    }
   ],
   "source": [
    "# Grounding in google search\n",
    "\n",
    "tools = [\n",
    "    Tool.from_google_search_retrieval(\n",
    "        google_search_retrieval=grounding.GoogleSearchRetrieval()\n",
    "    ),\n",
    "]\n",
    "\n",
    "def generate_with_search(prompt):\n",
    "    vertexai.init(project=\"vertexai-demo-420409\", location=\"us-central1\")\n",
    "    model = GenerativeModel(\n",
    "        \"gemini-1.5-flash-001\",\n",
    "        tools=tools,\n",
    "    )\n",
    "    response = model.generate_content(\n",
    "        [prompt],\n",
    "        generation_config=generation_config,\n",
    "    )\n",
    "\n",
    "    print(response, end=\"\")\n",
    "    \n",
    "generate_with_search(\"\"\"What was Alphabet R&D cost in 2024?\"\"\")"
   ]
  },
  {
   "cell_type": "markdown",
   "id": "f62ec3ad-1939-4d35-9b37-432f091b8fc1",
   "metadata": {},
   "source": [
    "## Context Caching"
   ]
  },
  {
   "cell_type": "code",
   "execution_count": 12,
   "id": "6b2211fd-6626-4d3e-81bc-bfc3c1b698ce",
   "metadata": {
    "tags": []
   },
   "outputs": [
    {
     "name": "stdout",
     "output_type": "stream",
     "text": [
      "3503976431954690048\n"
     ]
    }
   ],
   "source": [
    "\n",
    "vertexai.init(project=PROJECT_ID, location=\"us-central1\")\n",
    "\n",
    "system_instruction = \"\"\"\n",
    "You are an expert researcher. You always stick to the facts in the sources provided, and never make up new facts.\n",
    "Now look at these research papers, and answer the following questions.\n",
    "\"\"\"\n",
    "\n",
    "contents = [\n",
    "    Part.from_uri(\n",
    "        \"gs://cloud-samples-data/generative-ai/pdf/2312.11805v3.pdf\",\n",
    "        mime_type=\"application/pdf\",\n",
    "    ),\n",
    "    Part.from_uri(\n",
    "        \"gs://cloud-samples-data/generative-ai/pdf/2403.05530.pdf\",\n",
    "        mime_type=\"application/pdf\",\n",
    "    ),\n",
    "]\n",
    "\n",
    "cached_content = caching.CachedContent.create(\n",
    "    model_name=\"gemini-1.5-pro-001\",\n",
    "    system_instruction=system_instruction,\n",
    "    contents=contents,\n",
    "    ttl=datetime.timedelta(minutes=60),\n",
    "    display_name=\"example-cache\",\n",
    ")\n",
    "\n",
    "cache_id = cached_content.name\n",
    "print(cache_id)"
   ]
  },
  {
   "cell_type": "code",
   "execution_count": 14,
   "id": "25f3e59f-a087-4532-9aa3-a772d6e4b73d",
   "metadata": {
    "tags": []
   },
   "outputs": [
    {
     "name": "stdout",
     "output_type": "stream",
     "text": [
      "The first paper is about Gemini, a family of multimodal models developed at Google. Gemini is trained to understand and reason across text, images, audio and video. This paper introduces the first version, Gemini 1.0, which comes in three sizes: Ultra, Pro, and Nano. The authors evaluate the models on a comprehensive suite of benchmarks and demonstrate their state-of-the-art performance.\n",
      "\n",
      "The second paper focuses on Gemini 1.5 Pro, a new addition to the Gemini family. This model is distinguished by its exceptional long-context understanding capability, enabling it to process information from up to 10 million tokens. This paper details Gemini 1.5 Pro’s architecture, training infrastructure, and evaluation across various tasks including multimodal long-context understanding, in-context language learning, long-document and video QA, and long-context ASR. The authors highlight the model's performance advancements while emphasizing responsible AI practices throughout its development and deployment. \n",
      "\n"
     ]
    }
   ],
   "source": [
    "from vertexai.preview.generative_models import GenerativeModel\n",
    "\n",
    "vertexai.init(project=PROJECT_ID, location=\"us-central1\")\n",
    "\n",
    "cached_content = caching.CachedContent(cached_content_name=cache_id)\n",
    "\n",
    "model = GenerativeModel.from_cached_content(cached_content=cached_content)\n",
    "\n",
    "response = model.generate_content(\"What are the papers about?\")\n",
    "\n",
    "print(response.text)"
   ]
  }
 ],
 "metadata": {
  "environment": {
   "kernel": "conda-base-py",
   "name": "workbench-notebooks.m120",
   "type": "gcloud",
   "uri": "us-docker.pkg.dev/deeplearning-platform-release/gcr.io/workbench-notebooks:m120"
  },
  "kernelspec": {
   "display_name": "Python 3 (ipykernel) (Local)",
   "language": "python",
   "name": "conda-base-py"
  },
  "language_info": {
   "codemirror_mode": {
    "name": "ipython",
    "version": 3
   },
   "file_extension": ".py",
   "mimetype": "text/x-python",
   "name": "python",
   "nbconvert_exporter": "python",
   "pygments_lexer": "ipython3",
   "version": "3.10.14"
  }
 },
 "nbformat": 4,
 "nbformat_minor": 5
}
