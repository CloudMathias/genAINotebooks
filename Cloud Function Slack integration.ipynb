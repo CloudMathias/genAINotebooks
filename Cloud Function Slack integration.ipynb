{
 "cells": [
  {
   "cell_type": "code",
   "execution_count": 1,
   "id": "b6697b17-9ba1-4be0-9c28-5b7542b3490c",
   "metadata": {
    "tags": []
   },
   "outputs": [],
   "source": [
    "import os\n",
    "import vertexai\n",
    "import functions_framework\n",
    "import json\n",
    "\n",
    "from langchain_google_community import VertexAISearchRetriever\n",
    "from langchain_google_vertexai import VertexAI\n",
    "from langchain.prompts import PromptTemplate\n",
    "\n",
    "PROJECT_ID = \"TODO\" \n",
    "REGION = \"us-central1\"\n",
    "DATA_STORE_LOCATION=\"global\"\n",
    "DATA_STORE_ID=\"TODO\"\n",
    "\n",
    "prompt_template = \"\"\"Use the following pieces of context to answer the question at the end.\n",
    "\n",
    "    {context}\n",
    "\n",
    "    Question: {question}\n",
    "    Answer:\"\"\"\n",
    "\n",
    "@functions_framework.http\n",
    "def searchSample(request):\n",
    "    search_query = request.form['text']\n",
    "    vertexai.init(project=PROJECT_ID, location=REGION)\n",
    "\n",
    "    retriever = VertexAISearchRetriever(\n",
    "        project_id=PROJECT_ID,\n",
    "        location_id=DATA_STORE_LOCATION,\n",
    "        data_store_id=DATA_STORE_ID,\n",
    "        max_documents=5,\n",
    "    )\n",
    "\n",
    "    result = retriever.invoke(search_query)\n",
    "    \n",
    "    llm = VertexAI(\n",
    "        model_name=\"gemini-1.5-flash-001\",\n",
    "        temperature=0,\n",
    "        verbose=True\n",
    "    )\n",
    "\n",
    "    prompt = PromptTemplate(\n",
    "        template=prompt_template, input_variables=[\"context\", \"question\"]\n",
    "    )\n",
    "\n",
    "    response = llm.invoke(prompt.format(context =result, question=search_query))\n",
    "    \n",
    "      # Formating answer to make it compatible with slack\n",
    "    data = {}\n",
    "    data['blocks'] = []\n",
    "    data['blocks'].append({\"type\":\"section\",\n",
    "                   \"text\": {\n",
    "                          \"type\": \"mrkdwn\",\n",
    "                          \"text\": \"Answer :\" + response\n",
    "                      }\n",
    "                  })\n",
    "    return json.dumps(data),200, {'Content-Type': 'application/json'}\n"
   ]
  }
 ],
 "metadata": {
  "environment": {
   "kernel": "conda-base-py",
   "name": "workbench-notebooks.m120",
   "type": "gcloud",
   "uri": "us-docker.pkg.dev/deeplearning-platform-release/gcr.io/workbench-notebooks:m120"
  },
  "kernelspec": {
   "display_name": "Python 3 (ipykernel) (Local)",
   "language": "python",
   "name": "conda-base-py"
  },
  "language_info": {
   "codemirror_mode": {
    "name": "ipython",
    "version": 3
   },
   "file_extension": ".py",
   "mimetype": "text/x-python",
   "name": "python",
   "nbconvert_exporter": "python",
   "pygments_lexer": "ipython3",
   "version": "3.10.14"
  }
 },
 "nbformat": 4,
 "nbformat_minor": 5
}
